{
 "cells": [
  {
   "cell_type": "markdown",
   "id": "b67ca7c4",
   "metadata": {},
   "source": [
    "# Simple math ops with Numpy - Scalars, vectors, matrices, tensors"
   ]
  },
  {
   "cell_type": "code",
   "execution_count": 1,
   "id": "b8122b0b",
   "metadata": {},
   "outputs": [],
   "source": [
    "import numpy as np"
   ]
  },
  {
   "cell_type": "markdown",
   "id": "755b92ee",
   "metadata": {},
   "source": [
    "### Scalars"
   ]
  },
  {
   "cell_type": "code",
   "execution_count": 13,
   "id": "0bd30070",
   "metadata": {},
   "outputs": [
    {
     "name": "stdout",
     "output_type": "stream",
     "text": [
      "5\n",
      "()\n",
      "8\n"
     ]
    }
   ],
   "source": [
    "s = np.array(5)\n",
    "print(s)\n",
    "print(s.shape)\n",
    "print(s + 3)"
   ]
  },
  {
   "cell_type": "markdown",
   "id": "187becbb",
   "metadata": {},
   "source": [
    "### Vectors"
   ]
  },
  {
   "cell_type": "code",
   "execution_count": 14,
   "id": "e300c4c7",
   "metadata": {},
   "outputs": [
    {
     "name": "stdout",
     "output_type": "stream",
     "text": [
      "[1 2 3]\n",
      "2\n",
      "[2 3]\n"
     ]
    }
   ],
   "source": [
    "v = np.array([1,2,3])\n",
    "print(v)\n",
    "print(v[1])\n",
    "print(v[1:])"
   ]
  },
  {
   "cell_type": "markdown",
   "id": "0b32fe35",
   "metadata": {},
   "source": [
    "### Matrices"
   ]
  },
  {
   "cell_type": "code",
   "execution_count": 15,
   "id": "0e0ca870",
   "metadata": {},
   "outputs": [
    {
     "name": "stdout",
     "output_type": "stream",
     "text": [
      "[[1 2 3]\n",
      " [4 5 6]\n",
      " [7 8 9]]\n",
      "(3, 3)\n",
      "6\n"
     ]
    }
   ],
   "source": [
    "m = np.array([[1,2,3], [4,5,6], [7,8,9]])\n",
    "print(m)\n",
    "print(m.shape)\n",
    "print(m[1][2])"
   ]
  },
  {
   "cell_type": "markdown",
   "id": "f05fd8fa",
   "metadata": {},
   "source": [
    "### Tensors"
   ]
  },
  {
   "cell_type": "code",
   "execution_count": 21,
   "id": "8ff2c93a",
   "metadata": {},
   "outputs": [
    {
     "name": "stdout",
     "output_type": "stream",
     "text": [
      "[[[[ 1]\n",
      "   [ 2]]\n",
      "\n",
      "  [[ 3]\n",
      "   [ 4]]\n",
      "\n",
      "  [[ 5]\n",
      "   [ 6]]]\n",
      "\n",
      "\n",
      " [[[ 7]\n",
      "   [ 8]]\n",
      "\n",
      "  [[ 9]\n",
      "   [10]]\n",
      "\n",
      "  [[11]\n",
      "   [12]]]\n",
      "\n",
      "\n",
      " [[[13]\n",
      "   [14]]\n",
      "\n",
      "  [[15]\n",
      "   [16]]\n",
      "\n",
      "  [[17]\n",
      "   [17]]]]\n",
      "(3, 3, 2, 1)\n",
      "16\n"
     ]
    }
   ],
   "source": [
    "t = np.array([[[[1],[2]], [[3],[4]], [[5],[6]]],\n",
    "              [[[7],[8]], [[9],[10]], [[11],[12]]], \n",
    "              [[[13],[14]], [[15],[16]], [[17],[17]]]])\n",
    "print(t)\n",
    "print(t.shape)\n",
    "print(t[2][1][1][0])"
   ]
  },
  {
   "cell_type": "markdown",
   "id": "87a91534",
   "metadata": {},
   "source": [
    "### Reshaping"
   ]
  },
  {
   "cell_type": "code",
   "execution_count": 30,
   "id": "89ee70b7",
   "metadata": {},
   "outputs": [
    {
     "name": "stdout",
     "output_type": "stream",
     "text": [
      "[1 2 3 4]\n",
      "\n",
      "(4,)\n",
      "\n",
      "[[1 2 3 4]]\n",
      "\n",
      "[[1]\n",
      " [2]\n",
      " [3]\n",
      " [4]]\n"
     ]
    }
   ],
   "source": [
    "v = np.array([1,2,3,4])\n",
    "print(v)\n",
    "print(v.shape)\n",
    "print(v.reshape(1,4))\n",
    "print(v.reshape(4,1))"
   ]
  },
  {
   "cell_type": "markdown",
   "id": "c1939501",
   "metadata": {},
   "source": [
    "### Elementwise operations - Addition"
   ]
  },
  {
   "cell_type": "code",
   "execution_count": 27,
   "id": "c5a4aaee",
   "metadata": {},
   "outputs": [
    {
     "name": "stdout",
     "output_type": "stream",
     "text": [
      "[1, 2, 3, 4, 5]\n",
      "[ 6  7  8  9 10]\n"
     ]
    }
   ],
   "source": [
    "values = [1,2,3,4,5]\n",
    "print(values)\n",
    "values = np.array(values) + 5\n",
    "print(values)"
   ]
  },
  {
   "cell_type": "markdown",
   "id": "aa217f9a",
   "metadata": {},
   "source": [
    "### Elementwise operations - Multiplication"
   ]
  },
  {
   "cell_type": "code",
   "execution_count": 28,
   "id": "f305dbee",
   "metadata": {},
   "outputs": [
    {
     "name": "stdout",
     "output_type": "stream",
     "text": [
      "[ 5 10 15 20 25]\n",
      "[ 5 10 15 20 25]\n"
     ]
    }
   ],
   "source": [
    "values = [1,2,3,4,5]\n",
    "values = np.array(values)\n",
    "x = np.multiply(values, 5)\n",
    "print(x)\n",
    "x = values * 5\n",
    "print(x)"
   ]
  },
  {
   "cell_type": "markdown",
   "id": "0a27fa8c",
   "metadata": {},
   "source": [
    "### Elementwise matrix operations - Addition"
   ]
  },
  {
   "cell_type": "code",
   "execution_count": 29,
   "id": "6a40417c",
   "metadata": {},
   "outputs": [
    {
     "name": "stdout",
     "output_type": "stream",
     "text": [
      "[[1 3]\n",
      " [5 7]]\n",
      "\n",
      "[[2 4]\n",
      " [6 8]]\n",
      "\n",
      "[[ 3  7]\n",
      " [11 15]]\n"
     ]
    }
   ],
   "source": [
    "a = np.array([[1,3], [5,7]])\n",
    "b = np.array([[2,4], [6,8]])\n",
    "print(a)\n",
    "print(b)\n",
    "print(a + b)"
   ]
  },
  {
   "cell_type": "markdown",
   "id": "c063d93e",
   "metadata": {},
   "source": [
    "### Elementwise matrix operations - Multiplication"
   ]
  },
  {
   "cell_type": "code",
   "execution_count": 32,
   "id": "1888f367",
   "metadata": {},
   "outputs": [
    {
     "name": "stdout",
     "output_type": "stream",
     "text": [
      "[[1 3]\n",
      " [5 7]]\n",
      "[[2 4]\n",
      " [6 8]]\n",
      "\n",
      "[[ 2 12]\n",
      " [30 56]]\n"
     ]
    }
   ],
   "source": [
    "a = np.array([[1,3], [5,7]])\n",
    "b = np.array([[2,4], [6,8]])\n",
    "print(a)\n",
    "print(b)\n",
    "print(a * b)"
   ]
  },
  {
   "cell_type": "markdown",
   "id": "21eecf5f",
   "metadata": {},
   "source": [
    "### Matrix Product"
   ]
  },
  {
   "cell_type": "code",
   "execution_count": 35,
   "id": "9499d3b9",
   "metadata": {},
   "outputs": [
    {
     "name": "stdout",
     "output_type": "stream",
     "text": [
      "[[1 2 3 4]\n",
      " [5 6 7 8]]\n",
      "(2, 4)\n",
      "[[ 1  2  3]\n",
      " [ 4  5  6]\n",
      " [ 7  8  9]\n",
      " [10 11 12]]\n",
      "(4, 3)\n",
      "[[ 70  80  90]\n",
      " [158 184 210]]\n",
      "(2, 3)\n"
     ]
    }
   ],
   "source": [
    "a = np.array([[1,2,3,4],[5,6,7,8]])\n",
    "print(a)\n",
    "print(a.shape)\n",
    "\n",
    "b = np.array([[1,2,3],[4,5,6],[7,8,9],[10,11,12]])\n",
    "print(b)\n",
    "print(b.shape)\n",
    "\n",
    "c = np.matmul(a, b)\n",
    "print(c)\n",
    "print(c.shape)"
   ]
  },
  {
   "cell_type": "code",
   "execution_count": 36,
   "id": "a177ed8d",
   "metadata": {},
   "outputs": [
    {
     "ename": "ValueError",
     "evalue": "matmul: Input operand 1 has a mismatch in its core dimension 0, with gufunc signature (n?,k),(k,m?)->(n?,m?) (size 2 is different from 3)",
     "output_type": "error",
     "traceback": [
      "\u001b[0;31m---------------------------------------------------------------------------\u001b[0m",
      "\u001b[0;31mValueError\u001b[0m                                Traceback (most recent call last)",
      "\u001b[0;32m<ipython-input-36-f0a4fb253cef>\u001b[0m in \u001b[0;36m<module>\u001b[0;34m\u001b[0m\n\u001b[0;32m----> 1\u001b[0;31m \u001b[0mnp\u001b[0m\u001b[0;34m.\u001b[0m\u001b[0mmatmul\u001b[0m\u001b[0;34m(\u001b[0m\u001b[0mb\u001b[0m\u001b[0;34m,\u001b[0m \u001b[0ma\u001b[0m\u001b[0;34m)\u001b[0m\u001b[0;34m\u001b[0m\u001b[0;34m\u001b[0m\u001b[0m\n\u001b[0m\u001b[1;32m      2\u001b[0m \u001b[0;31m# displays the following error:\u001b[0m\u001b[0;34m\u001b[0m\u001b[0;34m\u001b[0m\u001b[0;34m\u001b[0m\u001b[0m\n\u001b[1;32m      3\u001b[0m \u001b[0;31m# ValueError: shapes (4,3) and (2,4) not aligned: 3 (dim 1) != 2 (dim 0)\u001b[0m\u001b[0;34m\u001b[0m\u001b[0;34m\u001b[0m\u001b[0;34m\u001b[0m\u001b[0m\n",
      "\u001b[0;31mValueError\u001b[0m: matmul: Input operand 1 has a mismatch in its core dimension 0, with gufunc signature (n?,k),(k,m?)->(n?,m?) (size 2 is different from 3)"
     ]
    }
   ],
   "source": [
    "np.matmul(b, a)\n",
    "# displays the following error:\n",
    "# ValueError: shapes (4,3) and (2,4) not aligned: 3 (dim 1) != 2 (dim 0)"
   ]
  },
  {
   "cell_type": "code",
   "execution_count": 37,
   "id": "474bc0d9",
   "metadata": {},
   "outputs": [
    {
     "name": "stdout",
     "output_type": "stream",
     "text": [
      "[[1 2]\n",
      " [3 4]]\n",
      "(2, 2)\n",
      "[[ 7 10]\n",
      " [15 22]]\n",
      "[[ 7 10]\n",
      " [15 22]]\n",
      "[[ 7 10]\n",
      " [15 22]]\n"
     ]
    }
   ],
   "source": [
    "a = np.array([[1,2],[3,4]])\n",
    "print(a)\n",
    "print(a.shape)\n",
    "print(np.dot(a,a))\n",
    "print(a.dot(a))\n",
    "print(np.matmul(a,a))"
   ]
  },
  {
   "cell_type": "markdown",
   "id": "ed21718a",
   "metadata": {},
   "source": [
    "### Matrix transpose"
   ]
  },
  {
   "cell_type": "code",
   "execution_count": 38,
   "id": "5e1703f3",
   "metadata": {},
   "outputs": [
    {
     "name": "stdout",
     "output_type": "stream",
     "text": [
      "[[ 1  2  3  4]\n",
      " [ 5  6  7  8]\n",
      " [ 9 10 11 12]]\n",
      "[[ 1  5  9]\n",
      " [ 2  6 10]\n",
      " [ 3  7 11]\n",
      " [ 4  8 12]]\n"
     ]
    }
   ],
   "source": [
    "m = np.array([[1,2,3,4], [5,6,7,8], [9,10,11,12]])\n",
    "print(m)\n",
    "print(m.T)"
   ]
  },
  {
   "cell_type": "code",
   "execution_count": 39,
   "id": "4dd17df4",
   "metadata": {},
   "outputs": [
    {
     "name": "stdout",
     "output_type": "stream",
     "text": [
      "[[  1   5   9]\n",
      " [  2   6  10]\n",
      " [  3   7  11]\n",
      " [  4 200  12]]\n",
      "[[  1   2   3   4]\n",
      " [  5   6   7 200]\n",
      " [  9  10  11  12]]\n"
     ]
    }
   ],
   "source": [
    "m_t = m.T\n",
    "m_t[3][1] = 200\n",
    "print(m_t)\n",
    "print(m)"
   ]
  },
  {
   "cell_type": "code",
   "execution_count": null,
   "id": "389c8ff8",
   "metadata": {},
   "outputs": [],
   "source": []
  }
 ],
 "metadata": {
  "hide_input": false,
  "kernelspec": {
   "display_name": "Python 3",
   "language": "python",
   "name": "python3"
  },
  "language_info": {
   "codemirror_mode": {
    "name": "ipython",
    "version": 3
   },
   "file_extension": ".py",
   "mimetype": "text/x-python",
   "name": "python",
   "nbconvert_exporter": "python",
   "pygments_lexer": "ipython3",
   "version": "3.6.13"
  }
 },
 "nbformat": 4,
 "nbformat_minor": 5
}
